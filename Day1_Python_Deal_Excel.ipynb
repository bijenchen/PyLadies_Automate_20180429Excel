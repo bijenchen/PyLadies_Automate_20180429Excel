{
 "cells": [
  {
   "cell_type": "markdown",
   "metadata": {
    "slideshow": {
     "slide_type": "slide"
    }
   },
   "source": [
    "# 生活中的程式 - Python自動化 01\n",
    "# Work with Excel files in Python\n",
    "\n",
    "## Pyladies Taiwan\n",
    "\n",
    "**Author : Olly\n",
    "<br>Speaker : 龜珍**\n",
    "\n",
    "#### 2018/04/29"
   ]
  },
  {
   "cell_type": "markdown",
   "metadata": {
    "slideshow": {
     "slide_type": "subslide"
    }
   },
   "source": [
    "### Outline\n",
    "* Background of this series\n",
    "    * Book and AutomateTutorial\n",
    "    * Basic and Enviroment \n",
    "* Main content\n",
    "    * Open and Read a '.xlsx' file\n",
    "    * Edit a '.xlsx' file\n",
    "    * Beautify a '.xlsx' file\n",
    "    * Else\n"
   ]
  },
  {
   "cell_type": "markdown",
   "metadata": {
    "slideshow": {
     "slide_type": "slide"
    }
   },
   "source": [
    "# Book\n",
    "<img src='https://automatetheboringstuff.com/images/automate_cover_medium.png' height=\"150\"></img>\n",
    "\n",
    "* Automate the Boring Stuff with Python\n",
    "    * [Translated Book](https://www.tenlong.com.tw/products/9789864762729)\n",
    "    * [Online eBook](https://automatetheboringstuff.com/)\n",
    "    * [Online Course -Udemy](https://softnshare.wordpress.com/2016/11/23/automateboringstuffwithpython/)\n",
    "* Environment require Python 3.4+"
   ]
  },
  {
   "cell_type": "markdown",
   "metadata": {
    "slideshow": {
     "slide_type": "subslide"
    }
   },
   "source": [
    "# AutomateTutorial\n",
    "1. Work with Excel files in Python\n",
    "2. Work with CSV files & JSON in Python\n",
    "3. Task Schedule\n",
    "4. Sending Email\n",
    "5. Control Mouse & Keyboard"
   ]
  },
  {
   "cell_type": "markdown",
   "metadata": {
    "slideshow": {
     "slide_type": "slide"
    }
   },
   "source": [
    "# Basic and Enviroment"
   ]
  },
  {
   "cell_type": "markdown",
   "metadata": {
    "slideshow": {
     "slide_type": "subslide"
    }
   },
   "source": [
    "# Contents:\n",
    "\n",
    "### 1. Basic python\n",
    "* Statement Assignment\n",
    "* print()\n",
    "* list/list slice\n",
    "* for loop + range\n",
    "* str()\n",
    "    * [Olly's github](https://github.com/iamshihshan/PyOllyTutorial/blob/master/01_Basic%20Python.ipynb)\n",
    "    * [tutorial slides by Mars](http://tw.pyladies.com/~marsw/book_basic/basic_01.slides.html#/)\n",
    "\n",
    "### 2. Third-party modules\n",
    "* [Openpyxl](https://openpyxl.readthedocs.io/en/stable/)"
   ]
  },
  {
   "cell_type": "markdown",
   "metadata": {
    "collapsed": true,
    "slideshow": {
     "slide_type": "subslide"
    }
   },
   "source": [
    "# Install Openpyxl Module\n",
    "### If you have native python you can install module as  below :\n",
    "```cmd\n",
    "pip install openpyxl\n",
    "```\n",
    "<img src=\"Imgs/D1_01_install_pip.JPG\" height=\"50\" width=\"600\"></img>\n",
    "\n",
    "### If you use conda you can install module as below :\n",
    "```cmd\n",
    "conda install openpyxl\n",
    "```\n",
    "<img src=\"Imgs/D1_01_install_conda.JPG\" height=\"50\" width=\"600\"></img>\n"
   ]
  },
  {
   "cell_type": "markdown",
   "metadata": {
    "slideshow": {
     "slide_type": "subslide"
    }
   },
   "source": [
    "# Check Moduel Install Completely\n",
    "\n",
    "### Without Error Message!!\n",
    "\n",
    "```Python\n",
    "import openpyxl\n",
    "```\n"
   ]
  },
  {
   "cell_type": "markdown",
   "metadata": {
    "slideshow": {
     "slide_type": "subslide"
    }
   },
   "source": [
    "# Create Mirosoft Excel Manually\n",
    "### Save as .xlsx file or download .xlsx file [here](https://goo.gl/T3cedR)\n",
    "<img src=\"Imgs/D1_02_mainSheet.JPG\" height=\"350\" width=\"500\"></img>"
   ]
  },
  {
   "cell_type": "markdown",
   "metadata": {
    "slideshow": {
     "slide_type": "subslide"
    }
   },
   "source": [
    "### Move the .xlsx file to the folder of Jupyter notebook\n",
    "Where is my Jupyter notebook folder? Use 'os.getcwd()' to check!\n",
    "<img src=\"Imgs/D1_02_jupyterPath.PNG\" height=\"150\" width=\"600\"></img>"
   ]
  },
  {
   "cell_type": "markdown",
   "metadata": {
    "collapsed": true,
    "slideshow": {
     "slide_type": "slide"
    }
   },
   "source": [
    "# Let's Start!"
   ]
  },
  {
   "cell_type": "markdown",
   "metadata": {
    "slideshow": {
     "slide_type": "subslide"
    }
   },
   "source": [
    "# What Will We Do on the '.xlsx' File \n",
    "* Open it\n",
    "* Edit it\n",
    "* Beautify it\n",
    "* Else"
   ]
  },
  {
   "cell_type": "markdown",
   "metadata": {
    "slideshow": {
     "slide_type": "slide"
    }
   },
   "source": [
    "# Open Excel with Openpyxl"
   ]
  },
  {
   "cell_type": "code",
   "execution_count": 1,
   "metadata": {
    "collapsed": false
   },
   "outputs": [
    {
     "data": {
      "text/plain": [
       "<openpyxl.workbook.workbook.Workbook at 0x16b42a74550>"
      ]
     },
     "execution_count": 1,
     "metadata": {},
     "output_type": "execute_result"
    }
   ],
   "source": [
    "import openpyxl\n",
    "wb = openpyxl.load_workbook('D1_01.xlsx')\n",
    "wb"
   ]
  },
  {
   "cell_type": "markdown",
   "metadata": {
    "collapsed": true,
    "slideshow": {
     "slide_type": "slide"
    }
   },
   "source": [
    "# How to Get Sheet"
   ]
  },
  {
   "cell_type": "markdown",
   "metadata": {},
   "source": [
    "### List ALL sheets I can get"
   ]
  },
  {
   "cell_type": "code",
   "execution_count": 2,
   "metadata": {
    "collapsed": false,
    "scrolled": true
   },
   "outputs": [
    {
     "data": {
      "text/plain": [
       "['Sheet1', 'Sheet2', 'Sheet3']"
      ]
     },
     "execution_count": 2,
     "metadata": {},
     "output_type": "execute_result"
    }
   ],
   "source": [
    "wb.get_sheet_names()"
   ]
  },
  {
   "cell_type": "code",
   "execution_count": 3,
   "metadata": {
    "collapsed": false
   },
   "outputs": [
    {
     "data": {
      "text/plain": [
       "<Worksheet \"Sheet2\">"
      ]
     },
     "execution_count": 3,
     "metadata": {},
     "output_type": "execute_result"
    }
   ],
   "source": [
    "sh2 = wb.get_sheet_by_name('Sheet2')\n",
    "sh2"
   ]
  },
  {
   "cell_type": "markdown",
   "metadata": {
    "slideshow": {
     "slide_type": "subslide"
    }
   },
   "source": [
    "### The Title of Sheet"
   ]
  },
  {
   "cell_type": "code",
   "execution_count": 4,
   "metadata": {
    "collapsed": false,
    "slideshow": {
     "slide_type": "-"
    }
   },
   "outputs": [
    {
     "data": {
      "text/plain": [
       "'Sheet2'"
      ]
     },
     "execution_count": 4,
     "metadata": {},
     "output_type": "execute_result"
    }
   ],
   "source": [
    "sh2.title"
   ]
  },
  {
   "cell_type": "markdown",
   "metadata": {
    "slideshow": {
     "slide_type": "-"
    }
   },
   "source": [
    "### Get The Active Sheet"
   ]
  },
  {
   "cell_type": "code",
   "execution_count": 5,
   "metadata": {
    "collapsed": false
   },
   "outputs": [
    {
     "data": {
      "text/plain": [
       "<Worksheet \"Sheet1\">"
      ]
     },
     "execution_count": 5,
     "metadata": {},
     "output_type": "execute_result"
    }
   ],
   "source": [
    "activeSheet = wb.active\n",
    "activeSheet"
   ]
  },
  {
   "cell_type": "markdown",
   "metadata": {
    "slideshow": {
     "slide_type": "slide"
    }
   },
   "source": [
    "# How to Get Value in Sheet\n",
    "<img src=\"Imgs/D1_02_mainSheet.JPG\" height=\"100\" width=\"350\"></img>"
   ]
  },
  {
   "cell_type": "code",
   "execution_count": 6,
   "metadata": {
    "collapsed": false
   },
   "outputs": [
    {
     "data": {
      "text/plain": [
       "'DateTime'"
      ]
     },
     "execution_count": 6,
     "metadata": {},
     "output_type": "execute_result"
    }
   ],
   "source": [
    "sh1 = wb.get_sheet_by_name('Sheet1')\n",
    "sh1['A1'].value"
   ]
  },
  {
   "cell_type": "code",
   "execution_count": 8,
   "metadata": {
    "collapsed": false
   },
   "outputs": [
    {
     "data": {
      "text/plain": [
       "'Olly'"
      ]
     },
     "execution_count": 8,
     "metadata": {},
     "output_type": "execute_result"
    }
   ],
   "source": [
    "sh1.cell(row=2,column=2).value"
   ]
  },
  {
   "cell_type": "code",
   "execution_count": 7,
   "metadata": {
    "collapsed": false
   },
   "outputs": [
    {
     "data": {
      "text/plain": [
       "datetime.datetime(2018, 1, 1, 0, 0)"
      ]
     },
     "execution_count": 7,
     "metadata": {},
     "output_type": "execute_result"
    }
   ],
   "source": [
    "sh1['A2'].value\n",
    "# 貼心的 '.value' 把資料型別也讀到了 :D "
   ]
  },
  {
   "cell_type": "code",
   "execution_count": 9,
   "metadata": {
    "collapsed": false,
    "slideshow": {
     "slide_type": "subslide"
    }
   },
   "outputs": [
    {
     "name": "stdout",
     "output_type": "stream",
     "text": [
      "1 Name\n",
      "2 Olly\n",
      "3 Ollier\n",
      "4 Oil\n"
     ]
    }
   ],
   "source": [
    "for i in range(1,5):\n",
    "    print(i, sh1.cell(row=i, column=2).value)  "
   ]
  },
  {
   "cell_type": "markdown",
   "metadata": {},
   "source": [
    "row和column都是用excel的視角看，所以從1開始數，別跟list的index概念搞混了。"
   ]
  },
  {
   "cell_type": "markdown",
   "metadata": {
    "slideshow": {
     "slide_type": "slide"
    }
   },
   "source": [
    "# Get Max Row & Max Column\n",
    "<img src=\"Imgs/D1_02_mainSheet.JPG\" height=\"100\" width=\"350\"></img>"
   ]
  },
  {
   "cell_type": "code",
   "execution_count": 10,
   "metadata": {
    "collapsed": false
   },
   "outputs": [
    {
     "data": {
      "text/plain": [
       "7"
      ]
     },
     "execution_count": 10,
     "metadata": {},
     "output_type": "execute_result"
    }
   ],
   "source": [
    "sh1.max_row"
   ]
  },
  {
   "cell_type": "code",
   "execution_count": 11,
   "metadata": {
    "collapsed": false
   },
   "outputs": [
    {
     "data": {
      "text/plain": [
       "4"
      ]
     },
     "execution_count": 11,
     "metadata": {},
     "output_type": "execute_result"
    }
   ],
   "source": [
    "sh1.max_column"
   ]
  },
  {
   "cell_type": "markdown",
   "metadata": {
    "slideshow": {
     "slide_type": "-"
    }
   },
   "source": [
    "注意：此方法有可能回傳比實際上多的結果，原因目前尚未研究出。"
   ]
  },
  {
   "cell_type": "markdown",
   "metadata": {
    "slideshow": {
     "slide_type": "slide"
    }
   },
   "source": [
    "# Get Column Letter & Get Index\n",
    "<img src=\"Imgs/D1_02_mainSheet.JPG\" height=\"100\" width=\"350\"></img>"
   ]
  },
  {
   "cell_type": "code",
   "execution_count": 12,
   "metadata": {
    "collapsed": true
   },
   "outputs": [],
   "source": [
    "from openpyxl.utils import  get_column_letter,column_index_from_string"
   ]
  },
  {
   "cell_type": "code",
   "execution_count": 13,
   "metadata": {
    "collapsed": false
   },
   "outputs": [
    {
     "data": {
      "text/plain": [
       "'A'"
      ]
     },
     "execution_count": 13,
     "metadata": {},
     "output_type": "execute_result"
    }
   ],
   "source": [
    "get_column_letter(1)"
   ]
  },
  {
   "cell_type": "code",
   "execution_count": 14,
   "metadata": {
    "collapsed": false
   },
   "outputs": [
    {
     "data": {
      "text/plain": [
       "'AA'"
      ]
     },
     "execution_count": 14,
     "metadata": {},
     "output_type": "execute_result"
    }
   ],
   "source": [
    "get_column_letter(27)"
   ]
  },
  {
   "cell_type": "code",
   "execution_count": 15,
   "metadata": {
    "collapsed": false,
    "slideshow": {
     "slide_type": "subslide"
    }
   },
   "outputs": [
    {
     "data": {
      "text/plain": [
       "2"
      ]
     },
     "execution_count": 15,
     "metadata": {},
     "output_type": "execute_result"
    }
   ],
   "source": [
    "column_index_from_string('B')"
   ]
  },
  {
   "cell_type": "code",
   "execution_count": 16,
   "metadata": {
    "collapsed": false
   },
   "outputs": [
    {
     "data": {
      "text/plain": [
       "28"
      ]
     },
     "execution_count": 16,
     "metadata": {},
     "output_type": "execute_result"
    }
   ],
   "source": [
    "column_index_from_string('AB')"
   ]
  },
  {
   "cell_type": "markdown",
   "metadata": {
    "slideshow": {
     "slide_type": "slide"
    }
   },
   "source": [
    "# Get a Cell Zone\n",
    "<img src=\"Imgs/D1_02_mainSheet.JPG\" height=\"100\" width=\"350\"></img>"
   ]
  },
  {
   "cell_type": "code",
   "execution_count": 17,
   "metadata": {
    "collapsed": false
   },
   "outputs": [
    {
     "data": {
      "text/plain": [
       "((<Cell 'Sheet1'.A2>,\n",
       "  <Cell 'Sheet1'.B2>,\n",
       "  <Cell 'Sheet1'.C2>,\n",
       "  <Cell 'Sheet1'.D2>),\n",
       " (<Cell 'Sheet1'.A3>,\n",
       "  <Cell 'Sheet1'.B3>,\n",
       "  <Cell 'Sheet1'.C3>,\n",
       "  <Cell 'Sheet1'.D3>))"
      ]
     },
     "execution_count": 17,
     "metadata": {},
     "output_type": "execute_result"
    }
   ],
   "source": [
    "sh1['A2':'D3']"
   ]
  },
  {
   "cell_type": "code",
   "execution_count": 18,
   "metadata": {
    "collapsed": false,
    "slideshow": {
     "slide_type": "subslide"
    }
   },
   "outputs": [
    {
     "name": "stdout",
     "output_type": "stream",
     "text": [
      "(<Cell 'Sheet1'.A2>, <Cell 'Sheet1'.B2>, <Cell 'Sheet1'.C2>, <Cell 'Sheet1'.D2>)\n",
      "(<Cell 'Sheet1'.A3>, <Cell 'Sheet1'.B3>, <Cell 'Sheet1'.C3>, <Cell 'Sheet1'.D3>)\n"
     ]
    }
   ],
   "source": [
    "for row in sh1['A2':'D3']:\n",
    "    print(row)"
   ]
  },
  {
   "cell_type": "code",
   "execution_count": 19,
   "metadata": {
    "collapsed": false
   },
   "outputs": [
    {
     "name": "stdout",
     "output_type": "stream",
     "text": [
      "<Cell 'Sheet1'.A2>\n",
      "<Cell 'Sheet1'.B2>\n",
      "<Cell 'Sheet1'.C2>\n",
      "<Cell 'Sheet1'.D2>\n",
      "<Cell 'Sheet1'.A3>\n",
      "<Cell 'Sheet1'.B3>\n",
      "<Cell 'Sheet1'.C3>\n",
      "<Cell 'Sheet1'.D3>\n"
     ]
    }
   ],
   "source": [
    "for row in sh1['A2':'D3']:\n",
    "    for cell in row:\n",
    "        print(cell)"
   ]
  },
  {
   "cell_type": "code",
   "execution_count": 20,
   "metadata": {
    "collapsed": false,
    "slideshow": {
     "slide_type": "subslide"
    }
   },
   "outputs": [
    {
     "name": "stdout",
     "output_type": "stream",
     "text": [
      "A2 = 2018-01-01 00:00:00\n",
      "B2 = Olly\n",
      "C2 = 13.0\n",
      "D2 = F\n",
      "★~~~~~~~ End of row ~~~~~~~★\n",
      "A3 = 2018-01-02 00:00:00\n",
      "B3 = Ollier\n",
      "C3 = 14.0\n",
      "D3 = F\n",
      "★~~~~~~~ End of row ~~~~~~~★\n"
     ]
    }
   ],
   "source": [
    "for row in sh1['A2':'D3']:\n",
    "    for cell in row:\n",
    "        print(cell.coordinate, '=', cell.value)\n",
    "    print('★~~~~~~~ End of row ~~~~~~~★')"
   ]
  },
  {
   "cell_type": "markdown",
   "metadata": {
    "slideshow": {
     "slide_type": "slide"
    }
   },
   "source": [
    "# Get Specific Row & Column\n",
    "<img src=\"Imgs/D1_02_mainSheet.JPG\" height=\"100\" width=\"350\"></img>"
   ]
  },
  {
   "cell_type": "code",
   "execution_count": 23,
   "metadata": {
    "collapsed": false
   },
   "outputs": [
    {
     "data": {
      "text/plain": [
       "(<Cell 'Sheet1'.A2>,\n",
       " <Cell 'Sheet1'.B2>,\n",
       " <Cell 'Sheet1'.C2>,\n",
       " <Cell 'Sheet1'.D2>)"
      ]
     },
     "execution_count": 23,
     "metadata": {},
     "output_type": "execute_result"
    }
   ],
   "source": [
    "sh1[2]  # 數字若是字串格式也可以唷！"
   ]
  },
  {
   "cell_type": "code",
   "execution_count": 24,
   "metadata": {
    "collapsed": false
   },
   "outputs": [
    {
     "name": "stdout",
     "output_type": "stream",
     "text": [
      "2018-01-01 00:00:00\n",
      "Olly\n",
      "13.0\n",
      "F\n"
     ]
    }
   ],
   "source": [
    "for cell in sh1[2]:\n",
    "    print(cell.value)"
   ]
  },
  {
   "cell_type": "code",
   "execution_count": 25,
   "metadata": {
    "collapsed": false,
    "slideshow": {
     "slide_type": "subslide"
    }
   },
   "outputs": [
    {
     "data": {
      "text/plain": [
       "(<Cell 'Sheet1'.B1>,\n",
       " <Cell 'Sheet1'.B2>,\n",
       " <Cell 'Sheet1'.B3>,\n",
       " <Cell 'Sheet1'.B4>,\n",
       " <Cell 'Sheet1'.B5>,\n",
       " <Cell 'Sheet1'.B6>,\n",
       " <Cell 'Sheet1'.B7>)"
      ]
     },
     "execution_count": 25,
     "metadata": {},
     "output_type": "execute_result"
    }
   ],
   "source": [
    "sh1['B']"
   ]
  },
  {
   "cell_type": "code",
   "execution_count": 26,
   "metadata": {
    "collapsed": false
   },
   "outputs": [
    {
     "name": "stdout",
     "output_type": "stream",
     "text": [
      "Name\n",
      "Olly\n",
      "Ollier\n",
      "Oil\n",
      "Oba\n",
      "Oma\n",
      "Ohya\n"
     ]
    }
   ],
   "source": [
    "for cell in sh1['B']:\n",
    "    print(cell.value)"
   ]
  },
  {
   "cell_type": "markdown",
   "metadata": {
    "slideshow": {
     "slide_type": "slide"
    }
   },
   "source": [
    "# Practice time ♫\n",
    "\n",
    "* Open Excel with Openpyxl\n",
    "    * load_workbook('YourFlie.xlsx')\n",
    "* Get a Sheet\n",
    "    * get_sheet_by_name('SheetName')\n",
    "* Get the Value of Cells"
   ]
  },
  {
   "cell_type": "markdown",
   "metadata": {
    "slideshow": {
     "slide_type": "slide"
    }
   },
   "source": [
    "# Modify Sheet Name"
   ]
  },
  {
   "cell_type": "code",
   "execution_count": 27,
   "metadata": {
    "collapsed": false
   },
   "outputs": [
    {
     "data": {
      "text/plain": [
       "'I am Sheet 1'"
      ]
     },
     "execution_count": 27,
     "metadata": {},
     "output_type": "execute_result"
    }
   ],
   "source": [
    "sh1.title = 'I am Sheet 1'\n",
    "sh1.title"
   ]
  },
  {
   "cell_type": "code",
   "execution_count": 28,
   "metadata": {
    "collapsed": true
   },
   "outputs": [],
   "source": [
    "wb.save('D1_02.xlsx')"
   ]
  },
  {
   "cell_type": "markdown",
   "metadata": {},
   "source": [
    "<img src=\"Imgs/D1_03_modifySheetName.JPG\" height=\"100\" width=\"350\"></img>"
   ]
  },
  {
   "cell_type": "markdown",
   "metadata": {
    "slideshow": {
     "slide_type": "slide"
    }
   },
   "source": [
    "# Create & Delete Sheet"
   ]
  },
  {
   "cell_type": "code",
   "execution_count": 29,
   "metadata": {
    "collapsed": false
   },
   "outputs": [
    {
     "data": {
      "text/plain": [
       "['Sheet']"
      ]
     },
     "execution_count": 29,
     "metadata": {},
     "output_type": "execute_result"
    }
   ],
   "source": [
    "import openpyxl\n",
    "wb = openpyxl.Workbook()  # 開一個新的'.xlsx'檔案\n",
    "wb.get_sheet_names()"
   ]
  },
  {
   "cell_type": "code",
   "execution_count": 30,
   "metadata": {
    "collapsed": false
   },
   "outputs": [
    {
     "data": {
      "text/plain": [
       "['Sheet', 'Sheet1']"
      ]
     },
     "execution_count": 30,
     "metadata": {},
     "output_type": "execute_result"
    }
   ],
   "source": [
    "wb.create_sheet()\n",
    "wb.get_sheet_names()"
   ]
  },
  {
   "cell_type": "code",
   "execution_count": 31,
   "metadata": {
    "collapsed": false,
    "slideshow": {
     "slide_type": "subslide"
    }
   },
   "outputs": [
    {
     "data": {
      "text/plain": [
       "['Fist Sheet', 'Sheet', 'Sheet1']"
      ]
     },
     "execution_count": 31,
     "metadata": {},
     "output_type": "execute_result"
    }
   ],
   "source": [
    "wb.create_sheet(index=0, title='Fist Sheet')\n",
    "wb.get_sheet_names()"
   ]
  },
  {
   "cell_type": "code",
   "execution_count": 32,
   "metadata": {
    "collapsed": false
   },
   "outputs": [
    {
     "data": {
      "text/plain": [
       "['Fist Sheet', 'Sheet', 'Middle Sheet', 'Sheet1']"
      ]
     },
     "execution_count": 32,
     "metadata": {},
     "output_type": "execute_result"
    }
   ],
   "source": [
    "wb.create_sheet(index=2, title='Middle Sheet')\n",
    "wb.get_sheet_names()"
   ]
  },
  {
   "cell_type": "code",
   "execution_count": 33,
   "metadata": {
    "collapsed": false,
    "slideshow": {
     "slide_type": "subslide"
    }
   },
   "outputs": [
    {
     "data": {
      "text/plain": [
       "['Fist Sheet', 'Middle Sheet', 'Sheet1']"
      ]
     },
     "execution_count": 33,
     "metadata": {},
     "output_type": "execute_result"
    }
   ],
   "source": [
    "wb.remove_sheet(wb.get_sheet_by_name('Sheet'))\n",
    "wb.get_sheet_names()"
   ]
  },
  {
   "cell_type": "code",
   "execution_count": 34,
   "metadata": {
    "collapsed": true
   },
   "outputs": [],
   "source": [
    "wb.save('D1_03.xlsx')"
   ]
  },
  {
   "cell_type": "markdown",
   "metadata": {},
   "source": [
    "<img src=\"Imgs/D1_03_modifySheetName02.JPG\" height=\"20\" width=\"350\"></img>"
   ]
  },
  {
   "cell_type": "markdown",
   "metadata": {
    "slideshow": {
     "slide_type": "slide"
    }
   },
   "source": [
    "# Fill Value into Cell"
   ]
  },
  {
   "cell_type": "code",
   "execution_count": 35,
   "metadata": {
    "collapsed": true
   },
   "outputs": [],
   "source": [
    "wb = openpyxl.Workbook()\n",
    "sh = wb.active"
   ]
  },
  {
   "cell_type": "code",
   "execution_count": 36,
   "metadata": {
    "collapsed": false
   },
   "outputs": [
    {
     "data": {
      "text/plain": [
       "'My First Value'"
      ]
     },
     "execution_count": 36,
     "metadata": {},
     "output_type": "execute_result"
    }
   ],
   "source": [
    "sh['A1'] = 'My First Value'\n",
    "sh['A1'].value"
   ]
  },
  {
   "cell_type": "code",
   "execution_count": 37,
   "metadata": {
    "collapsed": true
   },
   "outputs": [],
   "source": [
    "wb.save('D1_04.xlsx')"
   ]
  },
  {
   "cell_type": "markdown",
   "metadata": {},
   "source": [
    "<img src=\"Imgs/D1_03_fillValue.JPG\" height=\"20\" width=\"300\"></img>"
   ]
  },
  {
   "cell_type": "markdown",
   "metadata": {
    "slideshow": {
     "slide_type": "slide"
    }
   },
   "source": [
    "# Practice time ♫\n",
    "\n",
    "* Create a '.xlsx' File\n",
    "    * Workbook()\n",
    "* Create Sheets\n",
    "    * create_sheet()\n",
    "* Fill Values into Cells\n",
    "* Save the File\n",
    "    * save('FileName.xlsx')\n",
    "    "
   ]
  },
  {
   "cell_type": "markdown",
   "metadata": {
    "slideshow": {
     "slide_type": "slide"
    }
   },
   "source": [
    "# Set Font"
   ]
  },
  {
   "cell_type": "code",
   "execution_count": 38,
   "metadata": {
    "collapsed": false
   },
   "outputs": [],
   "source": [
    "from openpyxl.styles import Font\n",
    "wb = openpyxl.Workbook()\n",
    "sh = wb.active"
   ]
  },
  {
   "cell_type": "code",
   "execution_count": 39,
   "metadata": {
    "collapsed": false
   },
   "outputs": [],
   "source": [
    "FontStyle = Font(name='Calibri', size=50, italic=True, bold=True)\n",
    "sh['A1'].font = FontStyle\n",
    "sh['A1'] = 'Hello Font'"
   ]
  },
  {
   "cell_type": "code",
   "execution_count": 40,
   "metadata": {
    "collapsed": false
   },
   "outputs": [],
   "source": [
    "wb.save('D1_05.xlsx')"
   ]
  },
  {
   "cell_type": "markdown",
   "metadata": {},
   "source": [
    "<img src=\"Imgs/D1_04_font.JPG\" height=\"20\" width=\"300\"></img>"
   ]
  },
  {
   "cell_type": "markdown",
   "metadata": {
    "slideshow": {
     "slide_type": "slide"
    }
   },
   "source": [
    "# Set Algorithms"
   ]
  },
  {
   "cell_type": "code",
   "execution_count": 41,
   "metadata": {
    "collapsed": true
   },
   "outputs": [],
   "source": [
    "wb = openpyxl.Workbook()\n",
    "sh = wb.active"
   ]
  },
  {
   "cell_type": "code",
   "execution_count": 42,
   "metadata": {
    "collapsed": true
   },
   "outputs": [],
   "source": [
    "sh['A1'] = 10\n",
    "sh['A2'] = 20\n",
    "sh['A3'] = 30\n",
    "sh['A4'] = '=SUM(A1:A3)'"
   ]
  },
  {
   "cell_type": "code",
   "execution_count": 43,
   "metadata": {
    "collapsed": false
   },
   "outputs": [],
   "source": [
    "wb.save('D1_06.xlsx')"
   ]
  },
  {
   "cell_type": "markdown",
   "metadata": {},
   "source": [
    "<img src=\"Imgs/D1_04_algorithm.JPG\" height=\"20\" width=\"250\"></img>"
   ]
  },
  {
   "cell_type": "markdown",
   "metadata": {
    "slideshow": {
     "slide_type": "slide"
    }
   },
   "source": [
    "# Set Height & Width for Row & Column"
   ]
  },
  {
   "cell_type": "code",
   "execution_count": 44,
   "metadata": {
    "collapsed": false
   },
   "outputs": [],
   "source": [
    "wb = openpyxl.Workbook()\n",
    "sh = wb.active"
   ]
  },
  {
   "cell_type": "code",
   "execution_count": 45,
   "metadata": {
    "collapsed": true
   },
   "outputs": [],
   "source": [
    "sh['A1'] = 'Tall Row'\n",
    "sh['B2'] = 'Wide Column'"
   ]
  },
  {
   "cell_type": "code",
   "execution_count": 46,
   "metadata": {
    "collapsed": true
   },
   "outputs": [],
   "source": [
    "sh.row_dimensions[1].height = 50\n",
    "sh.column_dimensions['B'].width = 30"
   ]
  },
  {
   "cell_type": "code",
   "execution_count": 47,
   "metadata": {
    "collapsed": false
   },
   "outputs": [],
   "source": [
    "wb.save('D1_07.xlsx')"
   ]
  },
  {
   "cell_type": "markdown",
   "metadata": {},
   "source": [
    "<img src=\"Imgs/D1_04_highWeight.JPG\" height=\"20\" width=\"400\"></img>"
   ]
  },
  {
   "cell_type": "markdown",
   "metadata": {
    "slideshow": {
     "slide_type": "slide"
    }
   },
   "source": [
    "# Merge cells"
   ]
  },
  {
   "cell_type": "code",
   "execution_count": 48,
   "metadata": {
    "collapsed": true
   },
   "outputs": [],
   "source": [
    "wb = openpyxl.Workbook()\n",
    "sh = wb.active"
   ]
  },
  {
   "cell_type": "code",
   "execution_count": 49,
   "metadata": {
    "collapsed": true
   },
   "outputs": [],
   "source": [
    "sh.merge_cells('A1:C3')\n",
    "sh['A1'] = '9 Cells Merged Together!'  # 注意：合併儲存格後，只會留下起始儲存格座標\n",
    "sh.merge_cells('C5:D5')\n",
    "sh['C5'] = 'Two Merged Cells~'"
   ]
  },
  {
   "cell_type": "code",
   "execution_count": 50,
   "metadata": {
    "collapsed": true
   },
   "outputs": [],
   "source": [
    "wb.save('D1_08.xlsx')"
   ]
  },
  {
   "cell_type": "markdown",
   "metadata": {},
   "source": [
    "<img src=\"Imgs/D1_04_merge.JPG\" height=\"20\" width=\"300\"></img>"
   ]
  },
  {
   "cell_type": "markdown",
   "metadata": {
    "slideshow": {
     "slide_type": "slide"
    }
   },
   "source": [
    "# Unmerge Cells"
   ]
  },
  {
   "cell_type": "code",
   "execution_count": 51,
   "metadata": {
    "collapsed": false
   },
   "outputs": [],
   "source": [
    "wb = openpyxl.load_workbook('D1_08.xlsx')\n",
    "sh = wb.active"
   ]
  },
  {
   "cell_type": "code",
   "execution_count": 52,
   "metadata": {
    "collapsed": true
   },
   "outputs": [],
   "source": [
    "sh.unmerge_cells('A1:C3')\n",
    "sh.unmerge_cells('C5:D5')"
   ]
  },
  {
   "cell_type": "code",
   "execution_count": 53,
   "metadata": {
    "collapsed": false
   },
   "outputs": [],
   "source": [
    "wb.save('D1_08.xlsx')"
   ]
  },
  {
   "cell_type": "markdown",
   "metadata": {},
   "source": [
    "<img src=\"Imgs/D1_04_unmerge.JPG\" height=\"20\" width=\"400\"></img>"
   ]
  },
  {
   "cell_type": "markdown",
   "metadata": {
    "slideshow": {
     "slide_type": "slide"
    }
   },
   "source": [
    "# Freeze Cells\n",
    "|Freeze_panes               |Freeze Rows & Columns     |\n",
    "|---------------------------|--------------------------|\n",
    "|*freeze_panes = 'A2'*      |Row 1                     |\n",
    "|*freeze_panes = 'B1'*      |Column A                  |\n",
    "|*freeze_panes = 'C1'*      |Column A & B              |\n",
    "|*freeze_panes = 'C2'*      |Row1 & Column A & Column B|\n",
    "|*freeze_panes = 'A1'*      |Non Freeze                |\n",
    "|*freeze_panes = None*      |Non Freeze                |"
   ]
  },
  {
   "cell_type": "code",
   "execution_count": 54,
   "metadata": {
    "collapsed": true,
    "slideshow": {
     "slide_type": "subslide"
    }
   },
   "outputs": [],
   "source": [
    "wb = openpyxl.load_workbook('D1_01.xlsx')\n",
    "sh = wb.active"
   ]
  },
  {
   "cell_type": "code",
   "execution_count": 55,
   "metadata": {
    "collapsed": true
   },
   "outputs": [],
   "source": [
    "sh.freeze_panes = 'A2'"
   ]
  },
  {
   "cell_type": "code",
   "execution_count": 56,
   "metadata": {
    "collapsed": false
   },
   "outputs": [],
   "source": [
    "wb.save('D1_09.xlsx')"
   ]
  },
  {
   "cell_type": "markdown",
   "metadata": {},
   "source": [
    "<img src=\"Imgs/D1_04_freezePanes.JPG\" height=\"20\" width=\"400\"></img>"
   ]
  },
  {
   "cell_type": "markdown",
   "metadata": {
    "slideshow": {
     "slide_type": "slide"
    }
   },
   "source": [
    "# Practice time ♫\n",
    "\n",
    "* Set Font\n",
    "    * import Font\n",
    "* Set Algorithms\n",
    "* Set Height & Width for Row & Column\n",
    "    * row_dimensions[ ] ＆ height\n",
    "    * column_dimensions[ ] ＆ width\n",
    "* Merge and Unmerge cells\n",
    "    * merge_cells()\n",
    "    * unmerge_cells()\n",
    "* Freeze Cells\n",
    "    * freeze_panes"
   ]
  },
  {
   "cell_type": "markdown",
   "metadata": {
    "slideshow": {
     "slide_type": "slide"
    }
   },
   "source": [
    "# 延伸挑戰 - 圖表"
   ]
  },
  {
   "cell_type": "markdown",
   "metadata": {
    "slideshow": {
     "slide_type": "subslide"
    }
   },
   "source": [
    "# Plot\n",
    "[Document for Plot](http://openpyxl.readthedocs.io/en/2.5/charts/introduction.html)\n",
    "\n",
    "|Chart Type    |Function                       |\n",
    "|--------------|-------------------------------|\n",
    "|Bar Chart     |*openpyxl.chart.BarChart()    *|\n",
    "|Line Chart    |*openpyxl.chart.LineChart()   *|\n",
    "|Scatter Chart |*openpyxl.chart.ScatterChart()*|\n",
    "|Pie Chart     |*openpyxl.chart.PieChart()    *|"
   ]
  },
  {
   "cell_type": "code",
   "execution_count": 57,
   "metadata": {
    "collapsed": true,
    "slideshow": {
     "slide_type": "subslide"
    }
   },
   "outputs": [],
   "source": [
    "wb = openpyxl.Workbook()\n",
    "sh = wb.active"
   ]
  },
  {
   "cell_type": "code",
   "execution_count": 58,
   "metadata": {
    "collapsed": false
   },
   "outputs": [],
   "source": [
    "for i in range(1, 6):\n",
    "    sh['A' + str(i)] = i"
   ]
  },
  {
   "cell_type": "code",
   "execution_count": 59,
   "metadata": {
    "collapsed": true
   },
   "outputs": [],
   "source": [
    "# 界定一組資料範圍\n",
    "ref = openpyxl.chart.Reference(sh,\n",
    "                               min_col = 1,\n",
    "                               min_row = 1,\n",
    "                               max_col = 1,\n",
    "                               max_row = 5)\n",
    "# 為資料組設定名稱\n",
    "ser = openpyxl.chart.Series(ref, title='Fisrt Series')"
   ]
  },
  {
   "cell_type": "code",
   "execution_count": 60,
   "metadata": {
    "collapsed": true
   },
   "outputs": [],
   "source": [
    "barChart = openpyxl.chart.BarChart()\n",
    "barChart.title = 'My Bar Chart'\n",
    "barChart.append(ser)"
   ]
  },
  {
   "cell_type": "code",
   "execution_count": 61,
   "metadata": {
    "collapsed": true
   },
   "outputs": [],
   "source": [
    "sh.add_chart(barChart, 'C2') # 圖表種類，圖表繪製起點"
   ]
  },
  {
   "cell_type": "code",
   "execution_count": 62,
   "metadata": {
    "collapsed": false
   },
   "outputs": [],
   "source": [
    "wb.save('D1_10.xlsx')"
   ]
  },
  {
   "cell_type": "markdown",
   "metadata": {
    "slideshow": {
     "slide_type": "subslide"
    }
   },
   "source": [
    "<img src=\"Imgs/D1_05_chartBasic.JPG\" height=\"90\" width=\"800\"></img>"
   ]
  },
  {
   "cell_type": "markdown",
   "metadata": {
    "slideshow": {
     "slide_type": "slide"
    }
   },
   "source": [
    "# Example 1"
   ]
  },
  {
   "cell_type": "code",
   "execution_count": 63,
   "metadata": {
    "collapsed": false,
    "slideshow": {
     "slide_type": "-"
    }
   },
   "outputs": [],
   "source": [
    "import openpyxl\n",
    "from openpyxl.chart import BarChart, Reference, Series\n",
    "\n",
    "wb = openpyxl.Workbook()\n",
    "sh = wb.active\n",
    "\n",
    "for i in range(1, 6):\n",
    "    sh['A' + str(i)] = i\n",
    "    sh['B' + str(i)] = i*2\n",
    "\n",
    "ref1 = Reference(sh, min_col = 1, max_col = 1, min_row = 1, max_row = 5)\n",
    "ser1 = Series(ref1, title='Fisrt Series')\n",
    "ref2 = Reference(sh, min_col = 2, max_col = 2, min_row = 1, max_row = 5)\n",
    "ser2 = Series(ref2, title='Second Series')\n",
    "\n",
    "barChart = BarChart()\n",
    "barChart.title = 'My Bar Chart'\n",
    "barChart.append(ser1)\n",
    "barChart.append(ser2)\n",
    "\n",
    "sh.add_chart(barChart, 'C2')"
   ]
  },
  {
   "cell_type": "code",
   "execution_count": 64,
   "metadata": {
    "collapsed": false
   },
   "outputs": [],
   "source": [
    "wb.save('D1_11.xlsx')"
   ]
  },
  {
   "cell_type": "markdown",
   "metadata": {
    "slideshow": {
     "slide_type": "subslide"
    }
   },
   "source": [
    "<img src=\"Imgs/D1_05_chartExample01.JPG\" height=\"50\" width=\"800\"></img>"
   ]
  },
  {
   "cell_type": "markdown",
   "metadata": {
    "slideshow": {
     "slide_type": "slide"
    }
   },
   "source": [
    "# Example 2"
   ]
  },
  {
   "cell_type": "code",
   "execution_count": 65,
   "metadata": {
    "collapsed": false,
    "slideshow": {
     "slide_type": "-"
    }
   },
   "outputs": [],
   "source": [
    "import openpyxl\n",
    "from openpyxl.chart import ScatterChart, Reference, Series\n",
    "\n",
    "wb = openpyxl.Workbook()\n",
    "sh = wb.active\n",
    "\n",
    "rows = [['Day', 'Ollier', 'Orio', 'Olala'],\n",
    "        [1, 50, 30, 50],\n",
    "        [2, 30, 37, 67],\n",
    "        [3, 44, 40, 88],\n",
    "        [4, 40, 58, 99],\n",
    "        [5, 46, 80, 78],\n",
    "        [6, 60, 83, 100],]\n",
    "\n",
    "for row in rows:\n",
    "    sh.append(row)\n",
    "\n",
    "chart = ScatterChart()\n",
    "chart.title = \"My Scatter Chart\"\n",
    "chart.style = 12\n",
    "chart.x_axis.title = 'Day'\n",
    "chart.y_axis.title = 'Scores'\n",
    "\n",
    "xvalues = Reference(sh, min_col=1, max_col=1, min_row=2, max_row=7)\n",
    "for i in range(2, 5):\n",
    "    values = Reference(sh, min_col=i, max_col=i, min_row=1, max_row=7)\n",
    "    series = Series(values, xvalues, title_from_data=True)\n",
    "    chart.series.append(series)\n",
    "\n",
    "sh.add_chart(chart, \"F1\")"
   ]
  },
  {
   "cell_type": "code",
   "execution_count": 66,
   "metadata": {
    "collapsed": true
   },
   "outputs": [],
   "source": [
    "wb.save('D1_12.xlsx')"
   ]
  },
  {
   "cell_type": "markdown",
   "metadata": {
    "slideshow": {
     "slide_type": "subslide"
    }
   },
   "source": [
    "<img src=\"Imgs/D1_05_chartExample02.JPG\" height=\"50\" width=\"900\"></img>"
   ]
  },
  {
   "cell_type": "markdown",
   "metadata": {
    "slideshow": {
     "slide_type": "slide"
    }
   },
   "source": [
    "# Homework ☺\n",
    "\n",
    "### Work with Execel File in Python\n",
    "1. Import openpyxl\n",
    "2. Create a workbook\n",
    "3. Modify sheet name (e.g 'My Sheet')\n",
    "4. Fill cell with any value with column name\n",
    "5. Change word with font function\n",
    "5. Plot with the value in your excel sheet"
   ]
  },
  {
   "cell_type": "markdown",
   "metadata": {
    "collapsed": true,
    "slideshow": {
     "slide_type": "slide"
    }
   },
   "source": [
    "<h1 align=\"center\">def Day1End() :</h1>\n",
    "<h1 align=\"center\">&emsp;&emsp;&emsp;&emsp;&emsp;return 'Thank U ❤'</h1>"
   ]
  }
 ],
 "metadata": {
  "anaconda-cloud": {},
  "celltoolbar": "Slideshow",
  "kernelspec": {
   "display_name": "Python [conda env:2017flask_py36]",
   "language": "python",
   "name": "conda-env-2017flask_py36-py"
  },
  "language_info": {
   "codemirror_mode": {
    "name": "ipython",
    "version": 3
   },
   "file_extension": ".py",
   "mimetype": "text/x-python",
   "name": "python",
   "nbconvert_exporter": "python",
   "pygments_lexer": "ipython3",
   "version": "3.6.1"
  }
 },
 "nbformat": 4,
 "nbformat_minor": 0
}
